{
 "cells": [
  {
   "cell_type": "markdown",
   "metadata": {},
   "source": [
    "The purpose of this notebook is to incoporate some of Fred Bahr's inital station operation status code into a more modular framework to eventually feed in to a dashboard/UI. <br>\n",
    "Marine Lebrec, June 2024"
   ]
  },
  {
   "cell_type": "code",
   "execution_count": 33,
   "metadata": {},
   "outputs": [],
   "source": [
    "import numpy as np\n",
    "import xarray as xr\n",
    "import pandas as pd\n",
    "import datetime as dt\n",
    "from datetime import timedelta\n",
    "import requests\n",
    "import json\n",
    "import sys\n",
    "import smtplib\n",
    "from email.message import EmailMessage\n",
    "import csv"
   ]
  },
  {
   "cell_type": "code",
   "execution_count": 39,
   "metadata": {},
   "outputs": [
    {
     "data": {
      "text/plain": [
       "datetime.datetime(2024, 6, 18, 22, 10, 6, 813376, tzinfo=datetime.timezone.utc)"
      ]
     },
     "execution_count": 39,
     "metadata": {},
     "output_type": "execute_result"
    }
   ],
   "source": []
  },
  {
   "cell_type": "markdown",
   "metadata": {},
   "source": [
    "**Checklist**\n",
    "- Generate list of station names (long nam & short name for erddap url) - DONE\n",
    "- "
   ]
  },
  {
   "cell_type": "code",
   "execution_count": 80,
   "metadata": {},
   "outputs": [
    {
     "data": {
      "text/plain": [
       "'edu_ucsc_scwharf1'"
      ]
     },
     "execution_count": 80,
     "metadata": {},
     "output_type": "execute_result"
    }
   ],
   "source": [
    "# Get list of all stations that we are interested in.\n",
    "def get_all_stations():\n",
    "    station_file = 'station_names.json'\n",
    "    f = open(station_file)\n",
    "    data = json.load(f)\n",
    "    stationnames = []\n",
    "    for i in data:\n",
    "        stationnames.append(i['stationName'])\n",
    "    return stationnames\n",
    "\n",
    "def get_erddapid(station_file, station_name):\n",
    "    f = open(station_file)\n",
    "    data = json.load(f)\n",
    "\n",
    "    for station in data:\n",
    "            if station['stationName'] == station_name:\n",
    "                return station['datasetID']\n",
    "            \n",
    "def get_timedelta(erddapID):\n",
    "    now = dt.datetime.now(tz=dt.timezone.utc)\n",
    "    df = pd.read_csv(f'https://erddap.sensors.axds.co/erddap/tabledap/{erddapID}.csv?time')\n",
    "    last_time = dt.datetime.strptime(df['time'].iloc[-1],'%Y-%m-%dT%H:%M:%SZ').replace(tzinfo=dt.timezone.utc)\n",
    "    time_delta = now - last_time\n",
    "\n",
    "    # parse for more meaningful output\n",
    "    days = time_delta.days\n",
    "    hours, remainder = divmod(time_delta.seconds, 3600)\n",
    "    minutes, _ = divmod(remainder, 60)\n",
    "\n",
    "    # Construct the timedelta string without seconds\n",
    "    if days > 0:\n",
    "        timedelta_str = f\"{days} days, {hours} hours, {minutes} minutes\"\n",
    "    elif hours > 0:\n",
    "        timedelta_str = f\"{hours} hours, {minutes} minutes\"\n",
    "    elif minutes > 0:\n",
    "        timedelta_str = f\"{minutes} minutes\"\n",
    "    else:\n",
    "        timedelta_str = \"< 1 minute\"\n",
    "    \n",
    "    print(timedelta_str)\n",
    "    return timedelta_str\n",
    "\n",
    "def write_data_to_csv(station, timedelta_str, outputfile):\n",
    "     with open(outputfile, 'a', newline='') as csvfile:\n",
    "          fieldnames = ['stationName', 'timeDelta']\n",
    "          writer = csv.DictWriter(csvfile, fieldnames=fieldnames)\n",
    "          if csvfile.tell() == 0:\n",
    "              writer.writeheader()\n",
    "          writer.writerow({'stationName': station, 'timeDelta': timedelta_str})\n",
    "          print(f'{station} {timedelta_str} written to csv')\n",
    "     \n",
    "get_erddapid('station_names.json', 'Santa Cruz municipal wharf')"
   ]
  },
  {
   "cell_type": "code",
   "execution_count": 81,
   "metadata": {},
   "outputs": [
    {
     "name": "stdout",
     "output_type": "stream",
     "text": [
      "2 hours, 17 minutes\n",
      "Moss Landing Marine Laboratories Seawater Intake Monitoring Station (MLSC1) 2 hours, 17 minutes written to csv\n",
      "847 days, 18 hours, 10 minutes\n",
      "Romberg Tiburon Center Pier 847 days, 18 hours, 10 minutes written to csv\n",
      "1323 days, 5 hours, 43 minutes\n",
      "Santa Cruz municipal wharf 1323 days, 5 hours, 43 minutes written to csv\n",
      "23 minutes\n",
      "Trinidad Head, California 23 minutes written to csv\n",
      "229 days, 6 hours, 5 minutes\n",
      "Bodega Marine Laboratory seawater intake 229 days, 6 hours, 5 minutes written to csv\n",
      "11 days, 0 hours, 23 minutes\n",
      "Carquinez 11 days, 0 hours, 23 minutes written to csv\n",
      "229 days, 9 hours, 36 minutes\n",
      "Fort Point Pier 229 days, 9 hours, 36 minutes written to csv\n",
      "24 minutes\n",
      "Humboldt Bay Pier 24 minutes written to csv\n",
      "1663 days, 7 hours, 39 minutes\n",
      "Monterey Bay Commercial Wharf 1663 days, 7 hours, 39 minutes written to csv\n",
      "24 minutes\n",
      "Morro Bay - BM1 T-Pier 24 minutes written to csv\n",
      "24 minutes\n",
      "Morro Bay - BS1 24 minutes written to csv\n",
      "42 minutes\n",
      "San Luis Bay - Cal Poly Pier Shore (CPXC1) 42 minutes written to csv\n",
      "1279 days, 12 hours, 39 minutes\n",
      "Tuluwat (Indian Island) 1279 days, 12 hours, 39 minutes written to csv\n"
     ]
    }
   ],
   "source": [
    "outputfile = 'stations_timedelta.csv'\n",
    "for station in get_all_stations():\n",
    "    erddapid = get_erddapid(station_file = 'station_names.json', station_name = station)\n",
    "    timedelta_str = get_timedelta(erddapID=erddapid)\n",
    "    write_data_to_csv(station = station, timedelta_str = timedelta_str, outputfile = outputfile)\n",
    "\n",
    "    #print(erddapid, time_delta)\n"
   ]
  },
  {
   "cell_type": "code",
   "execution_count": 72,
   "metadata": {},
   "outputs": [
    {
     "data": {
      "text/plain": [
       "datetime.timedelta"
      ]
     },
     "execution_count": 72,
     "metadata": {},
     "output_type": "execute_result"
    }
   ],
   "source": [
    "erddapid = get_erddapid(station_file = 'station_names.json', station_name = station)\n",
    "time_delta = get_timedelta(erddapID=erddapid)\n",
    "type(time_delta)"
   ]
  },
  {
   "cell_type": "code",
   "execution_count": null,
   "metadata": {},
   "outputs": [],
   "source": []
  }
 ],
 "metadata": {
  "kernelspec": {
   "display_name": "base",
   "language": "python",
   "name": "python3"
  },
  "language_info": {
   "codemirror_mode": {
    "name": "ipython",
    "version": 3
   },
   "file_extension": ".py",
   "mimetype": "text/x-python",
   "name": "python",
   "nbconvert_exporter": "python",
   "pygments_lexer": "ipython3",
   "version": "3.12.4"
  }
 },
 "nbformat": 4,
 "nbformat_minor": 2
}
