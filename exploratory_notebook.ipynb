{
 "cells": [
  {
   "cell_type": "markdown",
   "metadata": {},
   "source": [
    "The purpose of this notebook is to incoporate some of Fred Bahr's inital station operation status code into a more modular framework to eventually feed in to a dashboard/UI. <br>\n",
    "Marine Lebrec, June 2024"
   ]
  },
  {
   "cell_type": "code",
   "execution_count": 1,
   "metadata": {},
   "outputs": [],
   "source": [
    "import numpy as np\n",
    "import xarray as xr\n",
    "import pandas as pd\n",
    "import datetime as dt\n",
    "from datetime import timedelta\n",
    "import requests\n",
    "import json\n",
    "import sys\n",
    "import smtplib\n",
    "from email.message import EmailMessage\n",
    "import csv"
   ]
  },
  {
   "cell_type": "code",
   "execution_count": 6,
   "metadata": {},
   "outputs": [],
   "source": [
    "# Get list of all stations that we are interested in.\n",
    "def get_all_stations():\n",
    "    station_file = 'station_names.json'\n",
    "    f = open(station_file)\n",
    "    data = json.load(f)\n",
    "    stationnames = []\n",
    "    for i in data:\n",
    "        stationnames.append(i['stationName'])\n",
    "    return stationnames\n",
    "\n",
    "def get_erddapid(station_file, station_name):\n",
    "    f = open(station_file)\n",
    "    data = json.load(f)\n",
    "\n",
    "    for station in data:\n",
    "            if station['stationName'] == station_name:\n",
    "                return station['datasetID']\n",
    "            \n",
    "def get_timedelta(erddapID):\n",
    "    now = dt.datetime.now(tz=dt.timezone.utc)\n",
    "    df = pd.read_csv(f'https://erddap.sensors.axds.co/erddap/tabledap/{erddapID}.csv?time')\n",
    "    last_time = dt.datetime.strptime(df['time'].iloc[-1],'%Y-%m-%dT%H:%M:%SZ').replace(tzinfo=dt.timezone.utc)\n",
    "    time_delta = now - last_time\n",
    "\n",
    "    # parse for more meaningful output\n",
    "    days = time_delta.days\n",
    "    hours, remainder = divmod(time_delta.seconds, 3600)\n",
    "    minutes, _ = divmod(remainder, 60)\n",
    "\n",
    "    # Construct the timedelta string without seconds\n",
    "    if days > 0:\n",
    "        timedelta_str = f\"{days} days, {hours} hours, {minutes} minutes\"\n",
    "    elif hours > 0:\n",
    "        timedelta_str = f\"{hours} hours, {minutes} minutes\"\n",
    "    elif minutes > 0:\n",
    "        timedelta_str = f\"{minutes} minutes\"\n",
    "    else:\n",
    "        timedelta_str = \"< 1 minute\"\n",
    "    \n",
    "    print(timedelta_str)\n",
    "    return timedelta_str\n",
    "\n",
    "def create_clean_csv(outputfile):\n",
    "     with open(outputfile, 'w', newline='') as csvfile:\n",
    "            fieldnames = ['stationName', 'timeDelta']\n",
    "            writer = csv.DictWriter(csvfile, fieldnames=fieldnames)\n",
    "            writer.writeheader()\n",
    "     \n",
    "     \n",
    "def write_to_csv(station, timedelta_str, outputfile):\n",
    "    with open(outputfile, 'a', newline='') as csvfile:\n",
    "        fieldnames = ['stationName', 'timeDelta']\n",
    "        writer = csv.DictWriter(csvfile, fieldnames=fieldnames)\n",
    "        writer.writerow({'stationName': station, 'timeDelta': timedelta_str})\n",
    "        print(f'{station} {timedelta_str} written to csv')"
   ]
  },
  {
   "cell_type": "code",
   "execution_count": 8,
   "metadata": {},
   "outputs": [
    {
     "name": "stdout",
     "output_type": "stream",
     "text": [
      "20 hours, 54 minutes\n",
      "Moss Landing Marine Laboratories Seawater Intake Monitoring Station (MLSC1) 20 hours, 54 minutes written to csv\n",
      "848 days, 12 hours, 47 minutes\n",
      "Romberg Tiburon Center Pier 848 days, 12 hours, 47 minutes written to csv\n",
      "1324 days, 0 hours, 21 minutes\n",
      "Santa Cruz municipal wharf 1324 days, 0 hours, 21 minutes written to csv\n",
      "16 minutes\n",
      "Trinidad Head, California 16 minutes written to csv\n",
      "230 days, 0 hours, 43 minutes\n",
      "Bodega Marine Laboratory seawater intake 230 days, 0 hours, 43 minutes written to csv\n",
      "11 days, 19 hours, 0 minutes\n",
      "Carquinez 11 days, 19 hours, 0 minutes written to csv\n",
      "230 days, 4 hours, 13 minutes\n",
      "Fort Point Pier 230 days, 4 hours, 13 minutes written to csv\n",
      "16 minutes\n",
      "Humboldt Bay Pier 16 minutes written to csv\n",
      "23 hours, 1 minutes\n",
      "Monterey Wharf Real Time Sampling 23 hours, 1 minutes written to csv\n",
      "41 minutes\n",
      "Morro Bay - BM1 T-Pier 41 minutes written to csv\n",
      "41 minutes\n",
      "Morro Bay - BS1 41 minutes written to csv\n",
      "1 hours, 18 minutes\n",
      "San Luis Bay - Cal Poly Pier Shore (CPXC1) 1 hours, 18 minutes written to csv\n",
      "1280 days, 7 hours, 17 minutes\n",
      "Tuluwat (Indian Island) 1280 days, 7 hours, 17 minutes written to csv\n"
     ]
    }
   ],
   "source": [
    "outputfile = 'stations_timedelta.csv'\n",
    "create_clean_csv(outputfile = outputfile)\n",
    "\n",
    "for station in get_all_stations():\n",
    "    erddapid = get_erddapid(station_file = 'station_names.json', station_name = station)\n",
    "    timedelta_str = get_timedelta(erddapID=erddapid)\n",
    "    write_to_csv(station = station, timedelta_str = timedelta_str, outputfile = outputfile)"
   ]
  },
  {
   "cell_type": "code",
   "execution_count": 72,
   "metadata": {},
   "outputs": [
    {
     "data": {
      "text/plain": [
       "datetime.timedelta"
      ]
     },
     "execution_count": 72,
     "metadata": {},
     "output_type": "execute_result"
    }
   ],
   "source": [
    "erddapid = get_erddapid(station_file = 'station_names.json', station_name = station)\n",
    "time_delta = get_timedelta(erddapID=erddapid)\n",
    "type(time_delta)"
   ]
  },
  {
   "cell_type": "code",
   "execution_count": null,
   "metadata": {},
   "outputs": [],
   "source": []
  }
 ],
 "metadata": {
  "kernelspec": {
   "display_name": "base",
   "language": "python",
   "name": "python3"
  },
  "language_info": {
   "codemirror_mode": {
    "name": "ipython",
    "version": 3
   },
   "file_extension": ".py",
   "mimetype": "text/x-python",
   "name": "python",
   "nbconvert_exporter": "python",
   "pygments_lexer": "ipython3",
   "version": "3.12.4"
  }
 },
 "nbformat": 4,
 "nbformat_minor": 2
}
