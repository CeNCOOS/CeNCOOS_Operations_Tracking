{
 "cells": [
  {
   "cell_type": "code",
   "execution_count": 1,
   "metadata": {},
   "outputs": [],
   "source": [
    "import json\n",
    "import datetime as dt\n",
    "import pandas as pd\n",
    "import numpy as np\n",
    "import xarray as xr\n",
    "import netCDF4\n",
    "import time\n",
    "from time import mktime\n",
    "import csv\n",
    "import pdb\n",
    "from datetime import timezone\n",
    "from ifcb_helper import get_bins_in_range, get_datasets\n",
    "from uptime import uptime\n",
    "from dateutil.relativedelta import relativedelta\n",
    "from scipy.io import loadmat"
   ]
  },
  {
   "cell_type": "code",
   "execution_count": 2,
   "metadata": {},
   "outputs": [],
   "source": [
    "import platform\n",
    "ptype=platform.system()"
   ]
  },
  {
   "cell_type": "code",
   "execution_count": 3,
   "metadata": {},
   "outputs": [],
   "source": [
    "# path to data glider files\n",
    "fpath='x:/glider_data/'\n",
    "dir56='Line56'\n",
    "dir67='Line67'\n",
    "dirTr='Trinidad'"
   ]
  },
  {
   "cell_type": "code",
   "execution_count": 4,
   "metadata": {},
   "outputs": [],
   "source": [
    "# get northernmost glider first\n",
    "filetoload=fpath+dirTr+'/linux_trinidad_glider.txt'\n",
    "fid=open(filetoload,'r')\n",
    "lines=fid.readlines()\n",
    "fid.close()\n",
    "kl=len(lines)\n",
    "# problem is that the most recent data isn't on the shared disk...\n",
    "for theindex in np.arange(0,kl):\n",
    "#for aline in lines:\n",
    "    aline=lines[theindex]\n",
    "    parts=aline.split('/')\n",
    "    subpart=parts[-1].split(',')\n",
    "    if theindex==kl-1:\n",
    "        aline=lines[theindex-1]\n",
    "        parts=aline.split('/')\n",
    "    lp=len(parts)\n",
    "    if ptype=='Windows':\n",
    "    # we need to skip the first part of the output\n",
    "        lp=len(parts)\n",
    "        file_for_glider='x:'\n",
    "        for kp in np.arange(2,lp-1):\n",
    "            file_for_glider=file_for_glider+'/'+parts[kp]\n",
    "        file_for_glider=file_for_glider+'/'+subpart[0]+'.mat'\n",
    "        thedata=loadmat(file_for_glider)\n",
    "    if ptype=='Linux':\n",
    "        file_for_glider=''\n",
    "        for kp in np.arange(0,lp-1):\n",
    "            file_for_glider=file_for_glider+'/'+parts[kp]\n",
    "        file_for_glider=file_for_glider+'/'+subpart[0]+'.mat'\n",
    "        thedata=loadmat(file_for_glider)\n",
    "    test=thedata['ttarr'][:,1] # this is the time array\n",
    "if theindex==0:\n",
    "    bigtime=test\n",
    "else:\n",
    "    bigtime=np.append(bigtime,test)\n"
   ]
  },
  {
   "cell_type": "code",
   "execution_count": 5,
   "metadata": {},
   "outputs": [
    {
     "data": {
      "text/plain": [
       "616"
      ]
     },
     "execution_count": 5,
     "metadata": {},
     "output_type": "execute_result"
    }
   ],
   "source": [
    "len(test)"
   ]
  },
  {
   "cell_type": "code",
   "execution_count": null,
   "metadata": {},
   "outputs": [],
   "source": [
    "test=np.append(test,test)"
   ]
  },
  {
   "cell_type": "code",
   "execution_count": null,
   "metadata": {},
   "outputs": [],
   "source": [
    "len(test)"
   ]
  },
  {
   "cell_type": "code",
   "execution_count": null,
   "metadata": {},
   "outputs": [],
   "source": [
    "test.shape"
   ]
  },
  {
   "cell_type": "code",
   "execution_count": null,
   "metadata": {},
   "outputs": [],
   "source": []
  }
 ],
 "metadata": {
  "kernelspec": {
   "display_name": "Python 3",
   "language": "python",
   "name": "python3"
  },
  "language_info": {
   "codemirror_mode": {
    "name": "ipython",
    "version": 3
   },
   "file_extension": ".py",
   "mimetype": "text/x-python",
   "name": "python",
   "nbconvert_exporter": "python",
   "pygments_lexer": "ipython3",
   "version": "3.11.7"
  }
 },
 "nbformat": 4,
 "nbformat_minor": 2
}
