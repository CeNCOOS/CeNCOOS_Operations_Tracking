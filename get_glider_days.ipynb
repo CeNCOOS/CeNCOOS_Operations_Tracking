{
 "cells": [
  {
   "cell_type": "code",
   "execution_count": 1,
   "metadata": {},
   "outputs": [],
   "source": [
    "import json\n",
    "import datetime as dt\n",
    "import pandas as pd\n",
    "import numpy as np\n",
    "import xarray as xr\n",
    "import netCDF4\n",
    "import time\n",
    "from time import mktime\n",
    "import csv\n",
    "import pdb\n",
    "from datetime import timezone\n",
    "from ifcb_helper import get_bins_in_range, get_datasets\n",
    "from uptime import uptime\n",
    "from dateutil.relativedelta import relativedelta\n",
    "from scipy.io import loadmat"
   ]
  },
  {
   "cell_type": "code",
   "execution_count": 2,
   "metadata": {},
   "outputs": [],
   "source": [
    "import platform\n",
    "ptype=platform.system()"
   ]
  },
  {
   "cell_type": "code",
   "execution_count": 3,
   "metadata": {},
   "outputs": [],
   "source": [
    "# path to data glider files\n",
    "if ptype=='Windows':\n",
    "    fpath='x:/glider_data/'\n",
    "else:\n",
    "    fpath='/cencoos_archive/glider_data/'\n",
    "dir56='Line56'\n",
    "dir67='Line67'\n",
    "dirTr='Trinidad'"
   ]
  },
  {
   "cell_type": "code",
   "execution_count": 4,
   "metadata": {},
   "outputs": [],
   "source": [
    "# need to have start times\n",
    "thenow=dt.datetime.now(dt.UTC)"
   ]
  },
  {
   "cell_type": "code",
   "execution_count": 58,
   "metadata": {},
   "outputs": [],
   "source": [
    "# get northernmost glider first\n",
    "filetoload=fpath+dirTr+'/linux_trinidad_glider.txt'\n",
    "fid=open(filetoload,'r')\n",
    "lines=fid.readlines()\n",
    "fid.close()\n",
    "kl=len(lines)\n",
    "# problem is that the most recent data isn't on the shared disk...\n",
    "bigtime=[]\n",
    "for theindex in np.arange(0,kl):\n",
    "#for aline in lines:\n",
    "    aline=lines[theindex]\n",
    "    parts=aline.split('/')\n",
    "    subpart=parts[-1].split(',')\n",
    "    if theindex==kl-1:\n",
    "        aline=lines[theindex-1]\n",
    "        parts=aline.split('/')\n",
    "    lp=len(parts)\n",
    "    if ptype=='Windows':\n",
    "    # we need to skip the first part of the output\n",
    "        lp=len(parts)\n",
    "        file_for_glider='x:'\n",
    "        for kp in np.arange(2,lp-1):\n",
    "            file_for_glider=file_for_glider+'/'+parts[kp]\n",
    "        file_for_glider=file_for_glider+'/'+subpart[0]+'.mat'\n",
    "        thedata=loadmat(file_for_glider)\n",
    "    if ptype=='Linux':\n",
    "        file_for_glider=''\n",
    "        for kp in np.arange(0,lp-1):\n",
    "            file_for_glider=file_for_glider+'/'+parts[kp]\n",
    "        file_for_glider=file_for_glider+'/'+subpart[0]+'.mat'\n",
    "        thedata=loadmat(file_for_glider)\n",
    "    test=thedata['ttarr'][:,1] # this is the time array\n",
    "# okay we have an issue in that how do we actually count days from profiles?\n",
    "# keep track of start and stop of each deployment?\n",
    "    deploystart=test[0]\n",
    "    deploystop=test[-1]\n",
    "    if theindex==0:\n",
    "        bigtime=[[deploystart, deploystop]]\n",
    "    else:\n",
    "        bigtime=np.vstack((bigtime,[[deploystart, deploystop]]))\n",
    "#    #bigtime=test\n",
    "#else:\n",
    "\n",
    "#    bigtime=np.append(bigtime,test)\n"
   ]
  },
  {
   "cell_type": "code",
   "execution_count": 59,
   "metadata": {},
   "outputs": [
    {
     "data": {
      "text/plain": [
       "array([[735919.88769745, 736032.71432028],\n",
       "       [736032.83696814,             nan],\n",
       "       [736224.77306749, 736466.14049569],\n",
       "       [736473.76974373, 736624.74304256],\n",
       "       [736624.75543373, 736851.6901553 ],\n",
       "       [736851.77409704, 737005.45664294],\n",
       "       [737167.77288163, 737335.12789475],\n",
       "       [737371.79175375, 737524.72296037],\n",
       "       [737524.80692946, 737656.56881471],\n",
       "       [737684.74975448, 737866.36485603],\n",
       "       [737954.80160108, 737962.70549873],\n",
       "       [738050.79117294, 738193.69046692],\n",
       "       [738384.78551888, 738392.82330126],\n",
       "       [738472.78422181, 738509.44371517],\n",
       "       [738912.83801711, 739112.76183733],\n",
       "       [739172.75696344, 739354.71038875],\n",
       "       [739354.76824749, 739485.30161874]])"
      ]
     },
     "execution_count": 59,
     "metadata": {},
     "output_type": "execute_result"
    }
   ],
   "source": [
    "bigtime"
   ]
  },
  {
   "cell_type": "code",
   "execution_count": 60,
   "metadata": {},
   "outputs": [],
   "source": [
    "bigtime=pd.to_datetime(bigtime-719529,unit=\"D\",utc=True) # trick to convert from stackoverflow\n",
    "# 719529 is 1970-01-01 which is the origin date for to_datetime\n",
    "#"
   ]
  },
  {
   "cell_type": "code",
   "execution_count": 61,
   "metadata": {},
   "outputs": [],
   "source": [
    "# figure out start and stop dates for the quarter, 1/2 year, and ioos year\n",
    "theyear=thenow.year\n",
    "themonth=thenow.month\n",
    "theday=thenow.day\n",
    "if themonth < 4:\n",
    "    quarter_start=1\n",
    "elif themonth >=4 and themonth < 7:\n",
    "    quarter_start=4\n",
    "elif themonth >=7 and themonth < 10:\n",
    "    quarter_start=7\n",
    "elif themonth >=10:\n",
    "    quarter_start=10\n",
    "thequarter_start=dt.datetime(theyear,quarter_start,1,0,0,0,tzinfo=timezone.utc)\n",
    "thequarter_end=dt.datetime(theyear,quarter_start+3,1,0,0,0,tzinfo=timezone.utc)\n",
    "# we also want 6 months past\n",
    "halfyear_start=dt.datetime(theyear,themonth,theday,0,0,0,tzinfo=timezone.utc)-relativedelta(months=6)\n",
    "if themonth < 7:\n",
    "    yeartouse=theyear-1\n",
    "else:\n",
    "    yeartouse=theyear\n",
    "ioosyear_start=dt.datetime(yeartouse,7,1,0,0,0,tzinfo=timezone.utc)\n"
   ]
  },
  {
   "cell_type": "code",
   "execution_count": 73,
   "metadata": {},
   "outputs": [
    {
     "name": "stdout",
     "output_type": "stream",
     "text": [
      "['quater days False']\n",
      "['sixdays False']\n",
      "['yeardays False']\n",
      "['quater days False']\n",
      "['sixdays False']\n",
      "['yeardays False']\n",
      "['quater days False']\n",
      "['sixdays False']\n",
      "['yeardays False']\n",
      "['quater days False']\n",
      "['sixdays False']\n",
      "['yeardays False']\n",
      "['quater days False']\n",
      "['sixdays False']\n",
      "['yeardays False']\n",
      "['quater days False']\n",
      "['sixdays False']\n",
      "['yeardays False']\n",
      "['quater days False']\n",
      "['sixdays False']\n",
      "['yeardays False']\n",
      "['quater days False']\n",
      "['sixdays False']\n",
      "['yeardays False']\n",
      "['quater days False']\n",
      "['sixdays False']\n",
      "['yeardays False']\n",
      "['quater days False']\n",
      "['sixdays False']\n",
      "['yeardays False']\n",
      "['quater days False']\n",
      "['sixdays False']\n",
      "['yeardays False']\n",
      "['quater days False']\n",
      "['sixdays False']\n",
      "['yeardays False']\n",
      "['quater days False']\n",
      "['sixdays False']\n",
      "['yeardays False']\n",
      "['quater days False']\n",
      "['sixdays False']\n",
      "['yeardays False']\n",
      "['quater days False']\n",
      "['sixdays False']\n",
      "['yeardays False']\n",
      "['quater days False']\n",
      "['sixdays True']\n",
      "['yeardays False']\n",
      "['quater days True']\n",
      "['sixdays False']\n",
      "['yeardays True']\n"
     ]
    }
   ],
   "source": [
    "ld=len(bigtime)\n",
    "for ig in np.arange(0,ld):\n",
    "    # this logic doesn't work\n",
    "    # we have a case where start is 8/2 but glider start is 8/4 and glider end is 8/21 so last part returns False but that is not what we want\n",
    "    #\n",
    "    test1=thequarter_start >= bigtime[ig][0]\n",
    "    test2=thequarter_start <= bigtime[ig][1]\n",
    "    test3=thequarter_end >= bigtime[ig][0]\n",
    "    test4=thequarter_end <= bigtime[ig][1]\n",
    "    #\n",
    "    # if test1==True and test2==False skip data set\n",
    "    # if test1==True and test2==True use part of the data set\n",
    "    # if test1==False and test2==True Need to check if end values are within the bounds?\n",
    "    # we can not have the situation where test1==False and test2==False\n",
    "    # if test3==False and test4==True skip data set\n",
    "    # if test3==True and test4==False This can not happen?\n",
    "    # if test3==True and test4==True use part of the data set\n",
    "    # \n",
    "\n",
    "\n",
    "\n",
    "\n",
    "    # if value is between start and stop then both are test1=true,test2=true  visually this is [    +    ] \n",
    "    # if value is outside of range test1=true, test2=false  visually this is [     ] + \n",
    "    # if value is outside of start but with end then test1=false, test2=true  visually this is  + [      ]\n",
    "    # for this case we would ideally have the first case happen also before this case.\n",
    "    # I don't think we can have the situation where test1=false and test2=false\n",
    "    # if we use + as start time and * as end times we could have the following possible scenarios\n",
    "    # [  +    ][    ][    *  ] \n",
    "    # [    ] + [     *]  or [    ]+ [      ] *[     ] or [   ] + [    ][  *] or [  +   ][   ]*[   ]\n",
    "\n",
    "\n",
    "\n",
    "    qtdays=(thequarter_start >= bigtime[ig][0])and(thequarter_start <= bigtime[ig][1])\n",
    "    print(['quater days '+str(qtdays)])\n",
    "    sixdays=(halfyear_start >= bigtime[ig][0])and(halfyear_start <= bigtime[ig][1])\n",
    "    print(['sixdays '+str(sixdays)])\n",
    "    yeardays=(ioosyear_start >= bigtime[ig][0])and(ioosyear_start <= bigtime[ig][1])\n",
    "    print(['yeardays '+str(yeardays)])"
   ]
  },
  {
   "cell_type": "code",
   "execution_count": 63,
   "metadata": {},
   "outputs": [
    {
     "data": {
      "text/plain": [
       "datetime.datetime(2024, 2, 21, 0, 0, tzinfo=datetime.timezone.utc)"
      ]
     },
     "execution_count": 63,
     "metadata": {},
     "output_type": "execute_result"
    }
   ],
   "source": [
    "halfyear_start"
   ]
  },
  {
   "cell_type": "code",
   "execution_count": 64,
   "metadata": {},
   "outputs": [
    {
     "data": {
      "text/plain": [
       "<DatetimeArray>\n",
       "['2024-04-12 18:26:16.582999552+00:00', '2024-08-21 07:14:19.859002112+00:00']\n",
       "Length: 2, dtype: datetime64[ns, UTC]"
      ]
     },
     "execution_count": 64,
     "metadata": {},
     "output_type": "execute_result"
    }
   ],
   "source": [
    "bigtime[-1]"
   ]
  },
  {
   "cell_type": "code",
   "execution_count": 68,
   "metadata": {},
   "outputs": [
    {
     "data": {
      "text/plain": [
       "True"
      ]
     },
     "execution_count": 68,
     "metadata": {},
     "output_type": "execute_result"
    }
   ],
   "source": [
    "halfyear_start >= bigtime[-2][0]"
   ]
  },
  {
   "cell_type": "code",
   "execution_count": 69,
   "metadata": {},
   "outputs": [
    {
     "data": {
      "text/plain": [
       "True"
      ]
     },
     "execution_count": 69,
     "metadata": {},
     "output_type": "execute_result"
    }
   ],
   "source": [
    "halfyear_start <= bigtime[-2][1]"
   ]
  },
  {
   "cell_type": "code",
   "execution_count": 72,
   "metadata": {},
   "outputs": [
    {
     "data": {
      "text/plain": [
       "False"
      ]
     },
     "execution_count": 72,
     "metadata": {},
     "output_type": "execute_result"
    }
   ],
   "source": []
  },
  {
   "cell_type": "code",
   "execution_count": 30,
   "metadata": {},
   "outputs": [],
   "source": [
    "test=[[deploystart,deploystop]]\n",
    "test=np.vstack((test,[[deploystart ,deploystop]]))\n",
    "#test=np.append(test,[[deploystart] ,[deploystop]])"
   ]
  },
  {
   "cell_type": "code",
   "execution_count": 32,
   "metadata": {},
   "outputs": [
    {
     "data": {
      "text/plain": [
       "array([[739354.76824749, 739485.30161874],\n",
       "       [739354.76824749, 739485.30161874]])"
      ]
     },
     "execution_count": 32,
     "metadata": {},
     "output_type": "execute_result"
    }
   ],
   "source": [
    "test"
   ]
  },
  {
   "cell_type": "code",
   "execution_count": null,
   "metadata": {},
   "outputs": [],
   "source": [
    "len(test)"
   ]
  },
  {
   "cell_type": "code",
   "execution_count": null,
   "metadata": {},
   "outputs": [],
   "source": [
    "test.shape"
   ]
  },
  {
   "cell_type": "code",
   "execution_count": null,
   "metadata": {},
   "outputs": [],
   "source": []
  }
 ],
 "metadata": {
  "kernelspec": {
   "display_name": "Python 3",
   "language": "python",
   "name": "python3"
  },
  "language_info": {
   "codemirror_mode": {
    "name": "ipython",
    "version": 3
   },
   "file_extension": ".py",
   "mimetype": "text/x-python",
   "name": "python",
   "nbconvert_exporter": "python",
   "pygments_lexer": "ipython3",
   "version": "3.11.7"
  }
 },
 "nbformat": 4,
 "nbformat_minor": 2
}
