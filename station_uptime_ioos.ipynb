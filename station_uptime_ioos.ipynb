{
 "cells": [
  {
   "cell_type": "code",
   "execution_count": 1,
   "metadata": {},
   "outputs": [],
   "source": [
    "import json\n",
    "import datetime as dt\n",
    "import pandas as pd\n",
    "import numpy as np\n",
    "import xarray as xr\n",
    "import netCDF4\n",
    "import time\n",
    "from time import mktime\n",
    "import csv\n",
    "import pdb\n",
    "from datetime import timezone\n",
    "from ifcb_helper import get_bins_in_range, get_datasets\n",
    "from uptime import uptime"
   ]
  },
  {
   "cell_type": "code",
   "execution_count": 2,
   "metadata": {},
   "outputs": [],
   "source": [
    "station_file='station_names.json'\n",
    "f=open(station_file)\n",
    "data=json.load(f)\n",
    "stationnames=[]\n",
    "stationID=[]\n",
    "stationURL=[]\n",
    "for i in data:\n",
    "    stationnames.append(i['stationName'])\n",
    "    stationID.append(i['datasetID'])\n",
    "    stationURL.append(i['caloos_link'])\n",
    "f.close()\n"
   ]
  },
  {
   "cell_type": "code",
   "execution_count": 3,
   "metadata": {},
   "outputs": [],
   "source": [
    "# get current time/date\n",
    "thenow=dt.datetime.now()\n",
    "theyear=thenow.year\n",
    "themonth=thenow.month\n",
    "theday=thenow.day\n",
    "# figure out what the start of the quarter is relative to present time\n",
    "#\n",
    "if themonth < 4:\n",
    "    quarter_start=1\n",
    "elif themonth >=4 and themonth < 7:\n",
    "    quarter_start=4\n",
    "elif themonth >=7 and themonth < 10:\n",
    "    quarter_start=7\n",
    "elif themonth >=10:\n",
    "    quarter_start=10\n",
    "# \n",
    "thequarter_start=dt.datetime(theyear,quarter_start,1,0,0,0,tzinfo=timezone.utc)\n",
    "thequarter_end=dt.datetime(theyear,quarter_start+3,1,0,0,0,tzinfo=timezone.utc)"
   ]
  },
  {
   "cell_type": "code",
   "execution_count": 4,
   "metadata": {},
   "outputs": [],
   "source": [
    "interval=[]\n",
    "# need site file with sample interval, I had thought to automate finding this but that could be problematic\n",
    "#\n",
    "# mlml\n",
    "interval.append(5)\n",
    "# Hog Island\n",
    "interval.append(5)\n",
    "# Romberg EOS\n",
    "interval.append(15)\n",
    "# Santa Cruz Wharf\n",
    "interval.append(5)\n",
    "# Trinidad\n",
    "interval.append(15)\n",
    "# Bodega Seawater Intake\n",
    "interval.append(4)\n",
    "# Carquinez (not exactly 15 minutes for some reason)\n",
    "interval.append(15)\n",
    "# Fort Point (offline for now)\n",
    "interval.append(6)\n",
    "# Humboldt Bay\n",
    "interval.append(15)\n",
    "# Monterey Wharf\n",
    "interval.append(20)\n",
    "# Morro Bay\n",
    "interval.append(10)\n",
    "# Morro Bay BS1\n",
    "interval.append(15)\n",
    "# San Luis Bay CPXC1 has 1 minute but multiple values?\n",
    "interval.append(1)\n",
    "# Tuluwat\n",
    "interval.append(15)"
   ]
  },
  {
   "cell_type": "code",
   "execution_count": 5,
   "metadata": {},
   "outputs": [
    {
     "name": "stdout",
     "output_type": "stream",
     "text": [
      "mlml_mlml_sea\n",
      "hog-island-hatchery\n",
      "tiburon-water-tibc1\n",
      "edu_ucsc_scwharf1\n",
      "edu_humboldt_tdp\n",
      "bodega-bay-bml_wts\n",
      "carquinez\n",
      "fort-point\n",
      "edu_humboldt_humboldt\n",
      "monterey-wharf-real-time-samplin\n",
      "edu_calpoly_marine_morro\n",
      "morro-bay-bs1\n",
      "san-luis-bay-cal-poly-pier-shore\n",
      "wiyot_tribe_indianisland\n"
     ]
    }
   ],
   "source": [
    "nnames=len(stationID)\n",
    "upg=[]\n",
    "uptot=[]\n",
    "upact=[]\n",
    "uppct=[]\n",
    "for s in np.arange(0,nnames):\n",
    "    assetID=stationID[s]\n",
    "    asset_df=pd.read_csv('https://erddap.cencoos.org/erddap/tabledap/{}.csv?time'.format(assetID))\n",
    "    seriestime=asset_df['time'][1:]\n",
    "    gaptime=4\n",
    "    print(assetID)\n",
    "    [guptime,totaldays,actualdays,percentdays]=uptime(seriestime,interval[s],thequarter_start,thequarter_end,gaptime)\n",
    "    upg.append(guptime)\n",
    "    uptot.append(totaldays)\n",
    "    upact.append(actualdays)\n",
    "    uppct.append(percentdays)"
   ]
  },
  {
   "cell_type": "code",
   "execution_count": 9,
   "metadata": {},
   "outputs": [
    {
     "data": {
      "text/plain": [
       "0.0"
      ]
     },
     "execution_count": 9,
     "metadata": {},
     "output_type": "execute_result"
    }
   ],
   "source": [
    "percentdays"
   ]
  },
  {
   "cell_type": "code",
   "execution_count": null,
   "metadata": {},
   "outputs": [],
   "source": [
    "s=11\n",
    "assetID=stationID[s]"
   ]
  },
  {
   "cell_type": "code",
   "execution_count": null,
   "metadata": {},
   "outputs": [],
   "source": [
    "asset_df=pd.read_csv('https://erddap.cencoos.org/erddap/tabledap/{}.csv?time'.format(assetID))\n"
   ]
  },
  {
   "cell_type": "code",
   "execution_count": null,
   "metadata": {},
   "outputs": [],
   "source": [
    "asset_df\n"
   ]
  },
  {
   "cell_type": "code",
   "execution_count": null,
   "metadata": {},
   "outputs": [],
   "source": [
    "seriestime=pd.to_datetime(seriestime)\n",
    "deltaseries=seriestime.diff()\n",
    "seriestime=seriestime[::-1]\n",
    "seriestime=seriestime.reset_index()\n",
    "seriestime=seriestime.drop('index',axis=1)\n",
    "deltaseries=deltaseries[::-1]"
   ]
  },
  {
   "cell_type": "code",
   "execution_count": null,
   "metadata": {},
   "outputs": [],
   "source": [
    "deltaseries=deltaseries.reset_index()\n",
    "deltaseries=deltaseries.drop('index',axis=1)\n",
    "deltaseries=deltaseries['time'].to_numpy()"
   ]
  },
  {
   "cell_type": "code",
   "execution_count": null,
   "metadata": {},
   "outputs": [],
   "source": [
    "deltaseries=deltaseries/1e9\n",
    "deltaseries=deltaseries.astype(float)\n",
    "deltaseries=deltaseries/60/60"
   ]
  },
  {
   "cell_type": "code",
   "execution_count": null,
   "metadata": {},
   "outputs": [],
   "source": [
    "gindex=np.where(deltaseries > gaptime)"
   ]
  },
  {
   "cell_type": "code",
   "execution_count": null,
   "metadata": {},
   "outputs": [],
   "source": [
    "guptime=seriestime['time'][0]-seriestime['time'][gindex[0]]\n",
    "lindex=(seriestime['time'] >= thequarter_start)&(seriestime['time'] <= thequarter_end)\n"
   ]
  },
  {
   "cell_type": "code",
   "execution_count": null,
   "metadata": {},
   "outputs": [],
   "source": [
    "subsettime=seriestime['time'][lindex]"
   ]
  },
  {
   "cell_type": "code",
   "execution_count": null,
   "metadata": {},
   "outputs": [],
   "source": [
    "numsample=len(subsettime)"
   ]
  },
  {
   "cell_type": "code",
   "execution_count": null,
   "metadata": {},
   "outputs": [],
   "source": [
    "totaldays=(thequarter_end-thequarter_start).days"
   ]
  },
  {
   "cell_type": "code",
   "execution_count": null,
   "metadata": {},
   "outputs": [],
   "source": [
    "len(interval)"
   ]
  },
  {
   "cell_type": "code",
   "execution_count": null,
   "metadata": {},
   "outputs": [],
   "source": [
    "s"
   ]
  },
  {
   "cell_type": "code",
   "execution_count": null,
   "metadata": {},
   "outputs": [],
   "source": [
    "actualdays=(numsample*interval[s])/60/24"
   ]
  },
  {
   "cell_type": "code",
   "execution_count": null,
   "metadata": {},
   "outputs": [],
   "source": [
    "#from uptime import uptime"
   ]
  },
  {
   "cell_type": "code",
   "execution_count": null,
   "metadata": {},
   "outputs": [],
   "source": [
    "ls=1\n",
    "for istation in np.arange(0,ls):\n",
    "    assetID=stationID[istation]\n",
    "    asset_df=pd.read_csv('https://erddap.cencoos.org/erddap/tabledap/{}.csv?time'.format(assetID))\n",
    "    asset_time=pd.to_datetime(asset_df['time'][1:])\n",
    "    # next is to put the uptime calculation "
   ]
  },
  {
   "cell_type": "code",
   "execution_count": null,
   "metadata": {},
   "outputs": [],
   "source": [
    "#asset_time=asset_df['time']\n",
    "asset_time=pd.to_datetime(asset_df['time'][1:])"
   ]
  },
  {
   "cell_type": "code",
   "execution_count": null,
   "metadata": {},
   "outputs": [],
   "source": [
    "#asset_time.diff()"
   ]
  },
  {
   "cell_type": "code",
   "execution_count": null,
   "metadata": {},
   "outputs": [],
   "source": [
    "# we need an idea of the sample delta time\n",
    "#delta_time=asset_time.diff()\n",
    "#mean_dt_value=np.mean(delta_time)"
   ]
  },
  {
   "cell_type": "code",
   "execution_count": null,
   "metadata": {},
   "outputs": [],
   "source": [
    "interval=[]\n",
    "# need site file with sample interval, I had thought to automate finding this but that could be problematic\n",
    "#\n",
    "# mlml\n",
    "interval.append(5)\n",
    "# Hog Island\n",
    "interval.append(5)\n",
    "# Romberg EOS\n",
    "interval.append(15)\n",
    "# Santa Cruz Wharf\n",
    "interval.append(5)\n",
    "# Trinidad\n",
    "interval.append(15)\n",
    "# Bodega Seawater Intake\n",
    "interval.append(4)\n",
    "# Carquinez (not exactly 15 minutes for some reason)\n",
    "interval.append(15)\n",
    "# Fort Point (offline for now)\n",
    "interval.append(6)\n",
    "# Humboldt Bay\n",
    "interval.append(15)\n",
    "# Monterey Wharf\n",
    "interval.append(20)\n",
    "# Morro Bay\n",
    "interval.append(10)\n",
    "# San Luis Bay CPXC1 has 1 minute but multiple values?\n",
    "interval.append(1)\n",
    "# Tuluwat\n",
    "interval.append(15)"
   ]
  },
  {
   "cell_type": "code",
   "execution_count": null,
   "metadata": {},
   "outputs": [],
   "source": [
    "interval\n",
    "sampleinterval=interval[0]\n",
    "print(sampleinterval)"
   ]
  },
  {
   "cell_type": "code",
   "execution_count": null,
   "metadata": {},
   "outputs": [],
   "source": [
    "from uptime import uptime"
   ]
  },
  {
   "cell_type": "code",
   "execution_count": null,
   "metadata": {},
   "outputs": [],
   "source": [
    "try:\n",
    "    seriestime=pd.to_datetime(asset_time)\n",
    "except:\n",
    "    pass\n"
   ]
  },
  {
   "cell_type": "code",
   "execution_count": null,
   "metadata": {},
   "outputs": [],
   "source": [
    "deltaseries=seriestime.diff()\n",
    "seriestime=seriestime[::-1]\n",
    "seriestime=seriestime.reset_index()\n",
    "seriestime=seriestime.drop('index',axis=1)\n",
    "deltaseries=deltaseries[::-1]\n",
    "# do the same as with time to get a new index\n",
    "deltaseries=deltaseries.reset_index()\n",
    "deltaseries=deltaseries.drop('index',axis=1)\n"
   ]
  },
  {
   "cell_type": "code",
   "execution_count": null,
   "metadata": {},
   "outputs": [],
   "source": [
    "deltaseries\n",
    "#tmp=tmp.astype(float)\n"
   ]
  },
  {
   "cell_type": "code",
   "execution_count": null,
   "metadata": {},
   "outputs": [],
   "source": [
    "junk=deltaseries['time'].to_numpy()"
   ]
  },
  {
   "cell_type": "code",
   "execution_count": null,
   "metadata": {},
   "outputs": [],
   "source": [
    "junk=junk/1e9\n",
    "junk=junk.astype(float)\n",
    "junk=junk/60\n",
    "junk"
   ]
  },
  {
   "cell_type": "code",
   "execution_count": null,
   "metadata": {},
   "outputs": [],
   "source": [
    "gaptime=4.0*60.0\n",
    "gindex=np.where(junk > gaptime)\n",
    "gindex=gindex[0]"
   ]
  },
  {
   "cell_type": "code",
   "execution_count": null,
   "metadata": {},
   "outputs": [],
   "source": [
    "guptime=seriestime['time'][0]-seriestime['time'][gindex[0]]\n",
    "lindex=(seriestime['time'] >= thequarter_start)&(seriestime['time'] <= thequarter_end)\n",
    "subsettime=seriestime['time'][lindex]\n"
   ]
  },
  {
   "cell_type": "code",
   "execution_count": null,
   "metadata": {},
   "outputs": [],
   "source": [
    "numsample=len(subsettime)\n"
   ]
  },
  {
   "cell_type": "code",
   "execution_count": null,
   "metadata": {},
   "outputs": [],
   "source": [
    "totaldays=(thequarter_end-thequarter_start).days\n",
    "# using the number of samples estimate the number days that where sampled\n",
    "# This does not mean that the sampling was continuous\n",
    "actualdays=(numsample*sampleinterval)/60/24\n",
    "# compute the fractional time that was sampled\n",
    "percentdays=100*(actualdays/totaldays)\n"
   ]
  },
  {
   "cell_type": "code",
   "execution_count": null,
   "metadata": {},
   "outputs": [],
   "source": [
    "print(totaldays)\n",
    "print(actualdays)\n",
    "print(percentdays)"
   ]
  },
  {
   "cell_type": "code",
   "execution_count": null,
   "metadata": {},
   "outputs": [],
   "source": [
    "print(sampleinterval)\n",
    "type(interval[0])\n",
    "uptime(asset_time,sampleinterval,thequarter_start,thequarter_end,3)\n",
    "#[gap_up,total_days,actual_days,percentageup]=uptime(asset_time,sampleinterval,thequarter_start,thequarter_end,3)"
   ]
  },
  {
   "cell_type": "code",
   "execution_count": null,
   "metadata": {},
   "outputs": [],
   "source": [
    "mean_dt_value.seconds/60"
   ]
  },
  {
   "cell_type": "code",
   "execution_count": null,
   "metadata": {},
   "outputs": [],
   "source": []
  }
 ],
 "metadata": {
  "kernelspec": {
   "display_name": "Python 3",
   "language": "python",
   "name": "python3"
  },
  "language_info": {
   "codemirror_mode": {
    "name": "ipython",
    "version": 3
   },
   "file_extension": ".py",
   "mimetype": "text/x-python",
   "name": "python",
   "nbconvert_exporter": "python",
   "pygments_lexer": "ipython3",
   "version": "3.11.7"
  }
 },
 "nbformat": 4,
 "nbformat_minor": 2
}
