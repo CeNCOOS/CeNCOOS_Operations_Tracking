{
 "cells": [
  {
   "cell_type": "code",
   "execution_count": 1,
   "metadata": {},
   "outputs": [],
   "source": [
    "import json\n",
    "import datetime as dt\n",
    "import pandas as pd\n",
    "import numpy as np\n",
    "import xarray as xr\n",
    "import netCDF4\n",
    "import time\n",
    "from time import mktime\n",
    "import csv\n",
    "import pdb\n",
    "from datetime import timezone\n",
    "from ifcb_helper import get_bins_in_range, get_datasets"
   ]
  },
  {
   "cell_type": "code",
   "execution_count": 2,
   "metadata": {},
   "outputs": [],
   "source": [
    "station_file='station_names.json'\n",
    "f=open(station_file)\n",
    "data=json.load(f)\n",
    "stationnames=[]\n",
    "stationID=[]\n",
    "stationURL=[]\n",
    "for i in data:\n",
    "    stationnames.append(i['stationName'])\n",
    "    stationID.append(i['datasetID'])\n",
    "    stationURL.append(i['caloos_link'])\n",
    "f.close()\n"
   ]
  },
  {
   "cell_type": "code",
   "execution_count": 5,
   "metadata": {},
   "outputs": [],
   "source": [
    "# get current time/date\n",
    "thenow=dt.datetime.now()\n",
    "theyear=thenow.year\n",
    "themonth=thenow.month\n",
    "theday=thenow.day\n",
    "# figure out what the start of the quarter is relative to present time\n",
    "#\n",
    "if themonth < 4:\n",
    "    quarter_start=1\n",
    "elif themonth >=4 and themonth < 7:\n",
    "    quarter_start=4\n",
    "elif themonth >=7 and themonth < 10:\n",
    "    quarter_start=7\n",
    "elif themonth >=10:\n",
    "    quarter_start=10\n",
    "# \n",
    "thequarter_start=dt.date(theyear,quarter_start,1)\n",
    "thequarter_end=dt.date(theyear,quarter_start+3,1)\n"
   ]
  },
  {
   "cell_type": "code",
   "execution_count": 6,
   "metadata": {},
   "outputs": [],
   "source": [
    "from uptime import uptime"
   ]
  },
  {
   "cell_type": "code",
   "execution_count": 7,
   "metadata": {},
   "outputs": [
    {
     "data": {
      "text/plain": [
       "<function uptime.uptime(seriestime, sampleinterval, starttime, endtime, gaptime)>"
      ]
     },
     "execution_count": 7,
     "metadata": {},
     "output_type": "execute_result"
    }
   ],
   "source": [
    "uptime"
   ]
  },
  {
   "cell_type": "code",
   "execution_count": null,
   "metadata": {},
   "outputs": [],
   "source": []
  }
 ],
 "metadata": {
  "kernelspec": {
   "display_name": "Python 3",
   "language": "python",
   "name": "python3"
  },
  "language_info": {
   "codemirror_mode": {
    "name": "ipython",
    "version": 3
   },
   "file_extension": ".py",
   "mimetype": "text/x-python",
   "name": "python",
   "nbconvert_exporter": "python",
   "pygments_lexer": "ipython3",
   "version": "3.11.7"
  }
 },
 "nbformat": 4,
 "nbformat_minor": 2
}
