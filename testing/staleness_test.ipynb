{
 "cells": [
  {
   "cell_type": "code",
   "execution_count": 1,
   "id": "bd2b8213-91f6-45b1-93e8-f42cb0bd82c0",
   "metadata": {},
   "outputs": [],
   "source": [
    "import numpy as np\n",
    "import xarray as xr\n",
    "import pandas as pd\n",
    "import datetime as dt"
   ]
  },
  {
   "cell_type": "markdown",
   "id": "b238ecf8-5e01-4511-92ae-78c98abd8d59",
   "metadata": {},
   "source": [
    "# read glider data?"
   ]
  },
  {
   "cell_type": "code",
   "execution_count": 2,
   "id": "bc182b11-652f-4645-9e6a-fd7f8bd99bf4",
   "metadata": {},
   "outputs": [],
   "source": [
    "mlml=pd.read_csv('https://erddap.sensors.axds.co/erddap/tabledap/mlml_mlml_sea.csv?time')\n",
    "eos=pd.read_csv('https://erddap.cencoos.org/erddap/tabledap/tiburon-water-tibc1.csv?time')\n",
    "scwharf=pd.read_csv('https://erddap.cencoos.org/erddap/tabledap/edu_ucsc_scwharf1.csv?time')\n",
    "trin=pd.read_csv('https://erddap.cencoos.org/erddap/tabledap/edu_humboldt_tdp.csv?time')\n",
    "bodega=pd.read_csv('https://erddap.cencoos.org/erddap/tabledap/bodega-bay-bml_wts.csv?time')\n",
    "carquinez=pd.read_csv('https://erddap.cencoos.org/erddap/tabledap/carquinez.csv?time')\n",
    "fortpoint=pd.read_csv('https://erddap.cencoos.org/erddap/tabledap/fort-point.csv?time')\n",
    "humboldt=pd.read_csv('https://erddap.cencoos.org/erddap/tabledap/edu_humboldt_humboldt.csv?time')\n",
    "monterey=pd.read_csv('https://erddap.cencoos.org/erddap/tabledap/mlml_monterey.csv?time')\n",
    "morro=pd.read_csv('https://erddap.cencoos.org/erddap/tabledap/edu_calpoly_marine_morro.csv?time')\n",
    "tuluwat=pd.read_csv('https://erddap.cencoos.org/erddap/tabledap/wiyot_tribe_indianisland.csv?time')"
   ]
  },
  {
   "cell_type": "code",
   "execution_count": 3,
   "id": "7a8d0b6e-6a8b-4856-88ca-29aa6cc8e306",
   "metadata": {},
   "outputs": [],
   "source": [
    "now=dt.datetime.utcnow()"
   ]
  },
  {
   "cell_type": "code",
   "execution_count": 4,
   "id": "feb913f3-e74d-4dd7-9f63-06899609508d",
   "metadata": {},
   "outputs": [],
   "source": [
    "tmlml=dt.datetime.strptime(mlml['time'].iloc[-1],'%Y-%m-%dT%H:%M:%SZ')\n",
    "teos=dt.datetime.strptime(eos['time'].iloc[-1],'%Y-%m-%dT%H:%M:%SZ')\n",
    "tscwharf=dt.datetime.strptime(scwharf['time'].iloc[-1],'%Y-%m-%dT%H:%M:%SZ')\n",
    "ttrin=dt.datetime.strptime(trin['time'].iloc[-1],'%Y-%m-%dT%H:%M:%SZ')\n",
    "tbodega=dt.datetime.strptime(bodega['time'].iloc[-1],'%Y-%m-%dT%H:%M:%SZ')\n",
    "tcarquinez=dt.datetime.strptime(carquinez['time'].iloc[-1],'%Y-%m-%dT%H:%M:%SZ')\n",
    "tfortpoint=dt.datetime.strptime(fortpoint['time'].iloc[-1],'%Y-%m-%dT%H:%M:%SZ')\n",
    "thumboldt=dt.datetime.strptime(humboldt['time'].iloc[-1],'%Y-%m-%dT%H:%M:%SZ')\n",
    "tmonterey=dt.datetime.strptime(monterey['time'].iloc[-1],'%Y-%m-%dT%H:%M:%SZ')\n",
    "tmorro=dt.datetime.strptime(morro['time'].iloc[-1],'%Y-%m-%dT%H:%M:%SZ')\n",
    "ttuluwat=dt.datetime.strptime(tuluwat['time'].iloc[-1],'%Y-%m-%dT%H:%M:%SZ')"
   ]
  },
  {
   "cell_type": "code",
   "execution_count": 5,
   "id": "4dec2500-285a-48ef-88a6-7fc2e25e5aac",
   "metadata": {},
   "outputs": [],
   "source": [
    "dtrin=now-ttrin\n",
    "dhumboldt=now-thumboldt\n",
    "dtuluwat=now-ttuluwat\n",
    "dbodega=now-tbodega\n",
    "deos=now-teos\n",
    "dfortpoint=now-tfortpoint\n",
    "dcarquinez=now-tcarquinez\n",
    "dscwharf=now-tscwharf\n",
    "dmonterey=now-tmonterey\n",
    "dmlml=now-tmlml\n",
    "dmorro=now-tmorro"
   ]
  },
  {
   "cell_type": "code",
   "execution_count": 6,
   "id": "2ee47b41-eac1-4572-917e-0d2bcf495810",
   "metadata": {},
   "outputs": [
    {
     "name": "stdout",
     "output_type": "stream",
     "text": [
      "Trinidad is 0 Days and 0.46 hours ahead/behind\n",
      "Humboldt is 0 Days and 0.46 hours ahead/behind\n",
      "Tuluwat is 1258 Days and 3.46 hours ahead/behind\n",
      "Bodega is 207 Days and 20.91 hours ahead/behind\n",
      "Fort Point is 208 Days and 0.41 hours ahead/behind\n",
      "Carquinez is 0 Days and 1.18 hours ahead/behind\n",
      "EOS is 826 Days and 8.99 hours ahead/behind\n",
      "Santa Cruz Wharf is 1301 Days and 20.54 hours ahead/behind\n",
      "Moss Landing is 0 Days and 0.37 hours ahead/behind\n",
      "Monterey is 1641 Days and 22.46 hours ahead/behind\n",
      "Morro Bay is 0 Days and 0.21 hours ahead/behind\n"
     ]
    }
   ],
   "source": [
    "print('Trinidad is '+str(dtrin.days)+' Days and '+str(round(dtrin.seconds/60/60,2))+' hours ahead/behind')\n",
    "print('Humboldt is '+str(dhumboldt.days)+' Days and '+str(round(dhumboldt.seconds/60/60,2))+' hours ahead/behind')\n",
    "print('Tuluwat is '+str(dtuluwat.days)+' Days and '+str(round(dtuluwat.seconds/60/60,2))+' hours ahead/behind')\n",
    "print('Bodega is '+str(dbodega.days)+' Days and '+str(round(dbodega.seconds/60/60,2))+' hours ahead/behind')\n",
    "print('Fort Point is '+str(dfortpoint.days)+' Days and '+str(round(dfortpoint.seconds/60/60,2))+' hours ahead/behind')\n",
    "print('Carquinez is '+str(dcarquinez.days)+' Days and '+str(round(dcarquinez.seconds/60/60,2))+' hours ahead/behind')\n",
    "print('EOS is '+str(deos.days)+' Days and '+str(round(deos.seconds/60/60,2))+' hours ahead/behind')\n",
    "print('Santa Cruz Wharf is '+str(dscwharf.days)+' Days and '+str(round(dscwharf.seconds/60/60,2))+' hours ahead/behind')\n",
    "print('Moss Landing is '+str(dmlml.days)+' Days and '+str(round(dmlml.seconds/60/60,2))+' hours ahead/behind')\n",
    "print('Monterey is '+str(dmonterey.days)+' Days and '+str(round(dmonterey.seconds/60/60,2))+' hours ahead/behind')\n",
    "print('Morro Bay is '+str(dmorro.days)+' Days and '+str(round(dmorro.seconds/60/60,2))+' hours ahead/behind')"
   ]
  },
  {
   "cell_type": "code",
   "execution_count": 7,
   "id": "7569463e-0149-4a72-8e87-5b88792ac283",
   "metadata": {},
   "outputs": [],
   "source": [
    "import requests\n",
    "import json\n",
    "import ifcb_api_access"
   ]
  },
  {
   "cell_type": "code",
   "execution_count": 8,
   "id": "d18b65a9-9744-4549-903e-16ef9e03f92e",
   "metadata": {},
   "outputs": [
    {
     "name": "stdout",
     "output_type": "stream",
     "text": [
      "['bloofinz-io', 'bodega-marine-lab', 'calcofi-cruises-ctd', 'calcofi-cruises-underway', 'cal-poly-humboldt-hioc', 'cce-lter-process-cruises-ifcb-151', 'del-mar-mooring', 'mbari-power-buoy', 'newport-beach-pier', 'plumes-and-blooms-cruises', 'san-francisco-bay-cruises', 'san-francisco-pier-17', 'santa-cruz-municipal-wharf', 'scripps-pier-ifcb-151', 'scripps-pier-ifcb-158', 'scripps-pier-ifcb-183', 'stearns-wharf']\n"
     ]
    }
   ],
   "source": [
    "urlapi='https://ifcb.caloos.org/api/'\n",
    "furl=urlapi+'filter_options'\n",
    "response1=requests.get(furl)\n",
    "content=response1.content\n",
    "content=json.loads(content)\n",
    "options=pd.DataFrame([content])\n",
    "ifcbs=options['dataset_options'][0]\n",
    "print(ifcbs)"
   ]
  },
  {
   "cell_type": "code",
   "execution_count": 9,
   "id": "ad84dbfe-fea6-4d06-ae17-c1d850ce17eb",
   "metadata": {},
   "outputs": [],
   "source": [
    "# numbers we want are 1,4,7,10,11,12"
   ]
  },
  {
   "cell_type": "code",
   "execution_count": 22,
   "id": "2519eee2-2a8f-44d7-a652-fb20c79c6340",
   "metadata": {},
   "outputs": [],
   "source": [
    "def get_bins_in_range(start_date, end_date, dataset_name, base_dashboard_url='https://ifcb.caloos.org'):\n",
    "    \"\"\" Given a start date and end date, request all of the ifcb sampled from a given instrument feed\n",
    "\n",
    "    Args:\n",
    "        start_date (str): Start date string in the form of yyyy-mm-dd\n",
    "        end_date (str): End date string in the form of yyyy-mm-dd\n",
    "    Returns: \n",
    "        (pd.DataFrame): dataframe with a series of bin ids \n",
    "    \"\"\"\n",
    "    # Dates should be of the \n",
    "    url = f\"{base_dashboard_url}/{dataset_name}/api/feed/temperature/start/{start_date}/end/{end_date}\"\n",
    "    response=requests.get(url)\n",
    "    #print(url)\n",
    "    #print(response.status_code)\n",
    "    #print(dataset_name)\n",
    "    # Response status can be 200 and still be an empty set\n",
    "    if response.status_code==200:\n",
    "        content=response.content\n",
    "        content=json.loads(content)\n",
    "        content=pd.DataFrame.from_dict(content)\n",
    "        if content.empty:\n",
    "            return(404)\n",
    "        else:\n",
    "            content[\"pid\"]=content[\"pid\"].map(lambda x: x.lstrip(f\"{base_dashboard_url}/{dataset_name}/\"))\n",
    "            content=content[\"pid\"]\n",
    "            return(content)\n",
    "    else:\n",
    "        print('Failed to get all bins with range with code: '+response.status_code)\n",
    "        return(response.status_code)\n"
   ]
  },
  {
   "cell_type": "code",
   "execution_count": 25,
   "id": "7681bc5a-7339-474d-b691-86a68961bb31",
   "metadata": {},
   "outputs": [
    {
     "name": "stdout",
     "output_type": "stream",
     "text": [
      "IFCB bodega-marine-lab had no data\n",
      "IFCB cal-poly-humboldt-hioc had 60 samples\n",
      "IFCB mbari-power-buoy had 60 samples\n",
      "IFCB san-francisco-bay-cruises had no data\n",
      "IFCB san-francisco-pier-17 had no data\n",
      "IFCB santa-cruz-municipal-wharf had no data\n"
     ]
    }
   ],
   "source": [
    "ox=now+dt.timedelta(days=-1)\n",
    "start=str(ox.year)+'-'+str(ox.month)+'-'+str(ox.day)\n",
    "stop=str(now.year)+'-'+str(now.month)+'-'+str(now.day)\n",
    "ifcbids=[1,4,7,10,11,12]\n",
    "lf=len(ifcbids)\n",
    "for i in np.arange(0,lf):\n",
    "     samples=get_bins_in_range(start,stop,ifcbs[ifcbids[i]]) # why is this returning 200 and not 404 as below?\n",
    "     try:\n",
    "         if samples==404:\n",
    "             print('IFCB '+ifcbs[ifcbids[i]]+' had no data')\n",
    "         else:\n",
    "             numdate=len(samples)\n",
    "             print('IFCB '+ifcbs[ifcbids[i]]+' had '+str(numdate)+' samples')\n",
    "     except:\n",
    "        numdate=len(samples)\n",
    "        print('IFCB '+ifcbs[ifcbids[i]]+' had '+str(numdate)+' samples')\n"
   ]
  },
  {
   "cell_type": "code",
   "execution_count": 37,
   "id": "dfdc01e6-9638-4203-a0ad-0b177d4ce6d9",
   "metadata": {},
   "outputs": [],
   "source": [
    "urltrin='https://gliders.ioos.us/erddap/tabledap/OSU686-20240412T0000.csv?time'\n",
    "trin=pd.read_csv(urltrin)\n",
    "url67='https://gliders.ioos.us/erddap/tabledap/sp025-20240515T2040.csv?time'\n",
    "line67=pd.read_csv(url67)\n",
    "url57='https://gliders.ioos.us/erddap/tabledap/sp028-20240403T1628.csv?time'\n",
    "line57=pd.read_csv(url57)"
   ]
  },
  {
   "cell_type": "code",
   "execution_count": 38,
   "id": "fe304107-0329-4145-b009-dd6474fc6fef",
   "metadata": {},
   "outputs": [],
   "source": [
    "day1trin=dt.datetime.strptime(trin['time'].iloc[-1],'%Y-%m-%dT%H:%M:%SZ')\n",
    "day2trin=dt.datetime.strptime(trin['time'].iloc[1],'%Y-%m-%dT%H:%M:%SZ')\n",
    "dtrin=day1trin-day2trin\n",
    "day1_67=dt.datetime.strptime(line67['time'].iloc[-1],'%Y-%m-%dT%H:%M:%SZ')\n",
    "day2_67=dt.datetime.strptime(line67['time'].iloc[1],'%Y-%m-%dT%H:%M:%SZ')\n",
    "d67=day1_67-day2_67\n",
    "day1_57=dt.datetime.strptime(line57['time'].iloc[-1],'%Y-%m-%dT%H:%M:%SZ')\n",
    "day2_57=dt.datetime.strptime(line57['time'].iloc[1],'%Y-%m-%dT%H:%M:%SZ')\n",
    "d57=day1_57-day2_57"
   ]
  },
  {
   "cell_type": "code",
   "execution_count": 39,
   "id": "e80dc73c-7ca4-4959-a652-80255ab26947",
   "metadata": {},
   "outputs": [
    {
     "name": "stdout",
     "output_type": "stream",
     "text": [
      "45 Trinidad glider days\n",
      "47 Arena glider days\n",
      "12 Monterey glider days\n"
     ]
    }
   ],
   "source": [
    "print(str(dtrin.days)+' Trinidad glider days')\n",
    "print(str(d57.days)+' Arena glider days')\n",
    "print(str(d67.days)+' Monterey glider days')"
   ]
  }
 ],
 "metadata": {
  "kernelspec": {
   "display_name": "Python 3 (ipykernel)",
   "language": "python",
   "name": "python3"
  },
  "language_info": {
   "codemirror_mode": {
    "name": "ipython",
    "version": 3
   },
   "file_extension": ".py",
   "mimetype": "text/x-python",
   "name": "python",
   "nbconvert_exporter": "python",
   "pygments_lexer": "ipython3",
   "version": "3.11.7"
  }
 },
 "nbformat": 4,
 "nbformat_minor": 5
}
